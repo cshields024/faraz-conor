


## Part 1: Conditional Statements
### Basic if statement
# Let's check if a number is positive, negative, or zero
number = 5  # Try changing this value

if number > 0:
    print(f"{number} is positive")
elif number < 0:
    print(f"{number} is negative")
else:
    print(f"{number} is zero")


### Exercise 1: Grade Calculator
# Write a program that converts a numerical score to a letter grade
# 90-100: A
# 80-89: B
# 70-79: C
# 60-69: D
# Below 60: F

def calculate_grade(score):
    # Your code here
    

# Test your function
test_scores = [95, 82, 71, 65, 55]
for score in test_scores:
    print(f"Score: {score}, Grade: {calculate_grade(score)}")


### Exercise 2: Discount Calculator
# Write a function that calculates the final price after applying a discount
# If the purchase amount is $100 or more, apply a 10% discount
# If the purchase amount is $500 or more, apply a 20% discount
# If the purchase amount is $1000 or more, apply a 30% discount

def calculate_discount(purchase_amount):
    # Your code here
   

# Test your function
purchase_amounts = [50, 150, 600, 1200]
for amount in purchase_amounts:
    print(f"Original price: ${amount}, Final price: ${calculate_discount(amount):.2f}")


## Part 2: Functions
### Basic function definition
def greet(name):
    """A simple function that greets a person by name"""
    return f"Hello, {name}!"

# Call the function
print(greet("Data Analyst"))


### Exercise 3: Temperature Converter
# Write a function that converts temperature from Celsius to Fahrenheit
# Formula: F = C * 9/5 + 32

def celsius_to_fahrenheit(celsius):
    # Your code here
    

# Test your function
temperatures_c = [0, 25, 37, 100]
for temp in temperatures_c:
    print(f"{temp}°C = {celsius_to_fahrenheit(temp):.1f}°F")


### Exercise 4: Calculator Function
# Write a function that takes two numbers and an operation as parameters
# Supported operations: add, subtract, multiply, divide
# Return the result of the operation

def calculator(num1, num2, operation):
    # Your code here
    

# Test your function
print(calculator(10, 5, "add"))      # Should return 15
print(calculator(10, 5, "subtract")) # Should return 5
print(calculator(10, 5, "multiply")) # Should return 50
print(calculator(10, 5, "divide"))   # Should return 2
print(calculator(10, 0, "divide"))   # Should return an error


## Part 3: Lists

### Basic list operations
fruits = ["apple", "banana", "cherry", "date"]
print("Original list:", fruits)

# Accessing elements
print("First fruit:", fruits[0])
print("Last fruit:", fruits[-1])

# Modifying the list
fruits[1] = "blueberry"
print("After modification:", fruits)

# Adding elements
fruits.append("elderberry")
print("After append:", fruits)

# Removing elements
removed_fruit = fruits.pop(0)
print(f"Removed {removed_fruit}, List now:", fruits)


### Exercise 5: List Statistics
# Write a function that takes a list of numbers and returns a dictionary with:
# - The minimum value
# - The maximum value
# - The average value
# - The sum of all values

def calculate_statistics(numbers):
    # Your code here
    

# Test your function
test_numbers = [5, 12, 8, 42, 23, 16]
stats = calculate_statistics(test_numbers)
print("Statistics:", stats)


### Exercise 6: List Filtering
# Write a function that takes a list of numbers and returns a new list containing only even numbers

def filter_even_numbers(numbers):
    # Your code here
   

# Test your function
numbers = [1, 2, 3, 4, 5, 6, 7, 8, 9, 10]
even_numbers = filter_even_numbers(numbers)
print("Even numbers:", even_numbers)


## Part 4: Dictionaries
### Basic dictionary operations
student = {
    "name": "Alex",
    "age": 23,
    "major": "Data Science",
    "gpa": 3.8
}

print("Student info:", student)

# Accessing values
print("Name:", student["name"])
print("Major:", student.get("major"))

# Adding or modifying key-value pairs
student["year"] = "Senior"
student["gpa"] = 3.9
print("Updated student info:", student)

# Removing key-value pairs
removed_age = student.pop("age")
print(f"Removed age: {removed_age}, Student info now:", student)


### Exercise 7: Word Counter
# Write a function that takes a string and returns a dictionary with each word as a key
# and the number of occurrences as the value

def count_words(text):
    # Your code here
  
    
    return word_count

# Test your function
sample_text = "The quick brown fox jumps over the lazy dog. The fox was quick and the dog was lazy."
word_counts = count_words(sample_text)
print("Word counts:", word_counts)


### Exercise 8: Contact Manager
# Create a small contact manager that lets you add, update, and retrieve contact information

contact_book = {}

def add_contact(name, phone, email=None):
    

def update_contact(name, phone=None, email=None):
    

def get_contact(name):
    return contact_book.get(name, f"Contact {name} not found")

# Test your contact manager
print(add_contact("Alice", "555-1234", "alice@example.com"))
print(add_contact("Bob", "555-5678"))
print(get_contact("Alice"))
print(update_contact("Alice", email="alice.new@example.com"))
print(get_contact("Alice"))
print(get_contact("Charlie"))


## Part 5: Loops
### For loop with a list
print("Iterating through a list:")
colors = ["red", "green", "blue", "yellow"]
for color in colors:
    print(f"Color: {color}")

### For loop with range
print("\nUsing range():")
for i in range(5):
    print(f"Number: {i}")

### While loop
print("\nUsing a while loop:")
count = 0
while count < 5:
    print(f"Count: {count}")
    count += 1


### Exercise 9: Factorial Calculator
# Write a function that calculates the factorial of a number using a loop
# Factorial of n = n * (n-1) * (n-2) * ... * 1

def factorial(n):
    # Your code here
    

# Test your function
for num in range(6):
    print(f"Factorial of {num} = {factorial(num)}")


### Exercise 10: Data Analysis
# You're given a list of dictionaries, each representing a student's score on different tests.
# Calculate the average score for each student and identify the student with the highest average.

students_data = [
    {"name": "Alice", "scores": [88, 92, 95, 85]},
    {"name": "Bob", "scores": [90, 87, 88, 81]},
    {"name": "Charlie", "scores": [92, 95, 96, 93]},
    {"name": "David", "scores": [78, 85, 91, 89]}
]

def analyze_student_scores(students):
    

# Test your function
analysis = analyze_student_scores(students_data)
print("\nStudent Analysis:")
print("Individual Averages:")
for name, avg in analysis["individual_averages"].items():
    print(f"  {name}: {avg:.2f}")
print(f"Top Student: {analysis['top_student']} with average of {analysis['top_average']:.2f}")


## Final Challenge: Sales Data Analysis

# You're given a list of dictionaries representing monthly sales data for a store.
# Each dictionary contains the month, category, and sales amount.

sales_data = [
    {"month": "Jan", "category": "Electronics", "amount": 1200},
    {"month": "Jan", "category": "Books", "amount": 850},
    {"month": "Jan", "category": "Clothing", "amount": 980},
    {"month": "Feb", "category": "Electronics", "amount": 1450},
    {"month": "Feb", "category": "Books", "amount": 920},
    {"month": "Feb", "category": "Clothing", "amount": 1050},
    {"month": "Mar", "category": "Electronics", "amount": 1600},
    {"month": "Mar", "category": "Books", "amount": 780},
    {"month": "Mar", "category": "Clothing", "amount": 1200}
]

def analyze_sales(sales):
    # Step 1 Calculate total sales per month
    
    
    # Step 2 Calculate total sales per category
    
    
    # Step 3 Find the best performing month and category
        
    # Step 4 Calculate overall total sales
    

# Test your analysis function
sales_analysis = analyze_sales(sales_data)
print("\nSales Analysis:")
print("Monthly Sales:")
for month, amount in sales_analysis["monthly_sales"].items():
    print(f"  {month}: ${amount}")
print("\nCategory Sales:")
for category, amount in sales_analysis["category_sales"].items():
    print(f"  {category}: ${amount}")
print(f"\nBest Month: {sales_analysis['best_month']} with ${sales_analysis['monthly_sales'][sales_analysis['best_month']]}")
print(f"Best Category: {sales_analysis['best_category']} with ${sales_analysis['category_sales'][sales_analysis['best_category']]}")
print(f"Total Sales: ${sales_analysis['total_sales']}")






